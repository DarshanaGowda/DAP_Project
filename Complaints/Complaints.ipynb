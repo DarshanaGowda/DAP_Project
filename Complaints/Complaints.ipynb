{
 "cells": [
  {
   "cell_type": "code",
   "execution_count": 2,
   "metadata": {},
   "outputs": [],
   "source": [
    "#All the required imports\n",
    "import requests\n",
    "import json\n",
    "from pymongo import MongoClient\n",
    "import pandas as pd"
   ]
  },
  {
   "cell_type": "code",
   "execution_count": null,
   "metadata": {},
   "outputs": [],
   "source": [
    "# baseurl = \"https://data.cityofnewyork.us/resource/qgea-i56i.json?$$app_token=wK7SaysF0k1J53sWS6fKyaxT0\"\n",
    "# year based on input \n",
    "# year_url = \"&$where=date_extract_y(cmplnt_fr_dt) in (year)\"\n",
    "# month based on input\n",
    "# month_url = \"\"\n",
    "# count_url = \"&$select=count(cmplnt_num)\""
   ]
  },
  {
   "cell_type": "code",
   "execution_count": 3,
   "metadata": {},
   "outputs": [
    {
     "name": "stdout",
     "output_type": "stream",
     "text": [
      "452997\n",
      "2997\n"
     ]
    },
    {
     "name": "stderr",
     "output_type": "stream",
     "text": [
      "C:\\ProgramData\\Anaconda3\\lib\\site-packages\\ipykernel_launcher.py:35: DeprecationWarning: count is deprecated. Use Collection.count_documents instead.\n",
      "C:\\ProgramData\\Anaconda3\\lib\\site-packages\\ipykernel_launcher.py:37: DeprecationWarning: remove is deprecated. Use delete_one or delete_many instead.\n"
     ]
    },
    {
     "name": "stdout",
     "output_type": "stream",
     "text": [
      "True\n",
      "True\n",
      "True\n",
      "True\n",
      "True\n",
      "True\n",
      "True\n",
      "True\n",
      "True\n",
      "10\n",
      "2997\n",
      "2997\n",
      "452997\n"
     ]
    },
    {
     "name": "stderr",
     "output_type": "stream",
     "text": [
      "C:\\ProgramData\\Anaconda3\\lib\\site-packages\\ipykernel_launcher.py:65: DeprecationWarning: count is deprecated. Use Collection.count_documents instead.\n"
     ]
    }
   ],
   "source": [
    "#Fetch count of existing records from API.\n",
    "try:\n",
    "    response = requests.get(\"https://data.cityofnewyork.us/resource/qgea-i56i.json?$$app_token=wK7SaysF0k1J53sWS6fKyaxT0&$where=date_extract_y(cmplnt_fr_dt) in (2018)&$select=count(cmplnt_num)\")\n",
    "    complaint_count = json.loads(response.text)\n",
    "    total_count = complaint_count[0]['count_cmplnt_num']\n",
    "except:\n",
    "    print(response.status_code)\n",
    "    print(\"Error in fetching data from API. Data not found.\")\n",
    "\n",
    "#Total number of records retrived\n",
    "print(total_count)\n",
    "\n",
    "#Number of pages to be retriveved.\n",
    "number_of_pages = int(int(total_count)/50000)\n",
    "\n",
    "#Number of required records on last page\n",
    "last_page_number = number_of_pages + 1\n",
    "last_page_record_count = int(total_count) % 50000\n",
    "print(last_page_record_count)\n",
    "\n",
    "#Iterating throgh multiple pages and retrieving data\n",
    "url = \"https://data.cityofnewyork.us/resource/qgea-i56i.json?$$app_token=wK7SaysF0k1J53sWS6fKyaxT0&$where=date_extract_y(cmplnt_fr_dt) in (2018)\"\n",
    "limit_url = \"&$limit=50000\"\n",
    "i=1\n",
    "\n",
    "\n",
    "#Connect to MongoDB\n",
    "mdb_client = MongoClient(\"mongodb://localhost:27017/\")\n",
    "#Create Database\n",
    "project_db = mdb_client[\"NewYorkData\"]\n",
    "#Create Collection\n",
    "complaint_col = project_db[\"ComplaintsCollection\"]\n",
    "\n",
    "#If records already present\n",
    "existing_records_count = complaint_col.find().count()\n",
    "if (existing_records_count > 0):\n",
    "    complaint_col.remove()\n",
    "\n",
    "while i <= number_of_pages :\n",
    "    page_url = url+limit_url+\"&$offset=\"+str(i)\n",
    "    page_response = requests.get(page_url)\n",
    "    complaint_data = json.loads(page_response.text)\n",
    "    #Count the number of records fetched from API\n",
    "    fetched_records_count = len(complaint_data)\n",
    "    #print(fetched_records_count)\n",
    "    #Insert data to the ComplaintsCollection\n",
    "    inserted_records = complaint_col.insert_many(complaint_data)\n",
    "    inserted_records_count = len(inserted_records.inserted_ids)\n",
    "    print(fetched_records_count == inserted_records_count)\n",
    "    i=i+1\n",
    "\n",
    "print(i)\n",
    "url_last_page = url+\"&$limit=\"+str(last_page_record_count)+\"&$offset=\"+str(last_page_number)\n",
    "last_page_repsonse = requests.get(url_last_page)\n",
    "complaint_data_last_page = json.loads(last_page_repsonse.text)\n",
    "#Count the number of records fetched from API\n",
    "fetched_records_count = len(complaint_data_last_page)\n",
    "print(fetched_records_count)\n",
    "#Insert data to the ComplaintsCollection\n",
    "inserted_records = complaint_col.insert_many(complaint_data_last_page)\n",
    "inserted_records_count = len(inserted_records.inserted_ids)\n",
    "print(inserted_records_count)\n",
    "\n",
    "#Check count of inserted records\n",
    "inserted_count = complaint_col.find().count()\n",
    "print(inserted_count)"
   ]
  }
 ],
 "metadata": {
  "kernelspec": {
   "display_name": "Python 3",
   "language": "python",
   "name": "python3"
  },
  "language_info": {
   "codemirror_mode": {
    "name": "ipython",
    "version": 3
   },
   "file_extension": ".py",
   "mimetype": "text/x-python",
   "name": "python",
   "nbconvert_exporter": "python",
   "pygments_lexer": "ipython3",
   "version": "3.7.3"
  }
 },
 "nbformat": 4,
 "nbformat_minor": 2
}
