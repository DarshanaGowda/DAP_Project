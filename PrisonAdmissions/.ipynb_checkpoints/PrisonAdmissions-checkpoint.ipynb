{
 "cells": [
  {
   "cell_type": "code",
   "execution_count": 52,
   "metadata": {},
   "outputs": [],
   "source": [
    "import requests\n",
    "import pymongo\n",
    "import json\n",
    "import psycopg2"
   ]
  },
  {
   "cell_type": "code",
   "execution_count": 53,
   "metadata": {},
   "outputs": [],
   "source": [
    "def mongoConnection():\n",
    "    \"\"\" Function to connect to Mongo Server\"\"\"\n",
    "    try:\n",
    "        mongoClient = pymongo.MongoClient(\"mongodb://localhost:27017/\")\n",
    "        mongoDB = mongoClient[\"prisonAdmissions\"]\n",
    "        mongoCollection = mongoDB[\"prisonAdmissions\"]\n",
    "        return mongoCollection\n",
    "    except Exception as error:\n",
    "        print (error)\n",
    "        \n",
    "def postgreSQLConnection():\n",
    "    \"\"\" Function to connect to PostgreSQL Server \"\"\"\n",
    "    try:\n",
    "        DBConnection = psycopg2.connect(\n",
    "            database = \"PrisonAdmissions\", \n",
    "            user = \"postgres\", \n",
    "            password = \"dap\", \n",
    "            host = \"127.0.0.1\", \n",
    "            port = \"5432\"\n",
    "        )\n",
    "        return DBConnection\n",
    "    except Exception as error:\n",
    "        print (error)\n",
    "\n",
    "def fetchData(URL):\n",
    "    \"\"\" Function to fetch data via an API \"\"\"\n",
    "    try:\n",
    "        response = requests.get(URL) # Fetch data from the URL\n",
    "        prisonAdmissionsJson = response.json()\n",
    "        return prisonAdmissionsJson # return data\n",
    "    except Exception as error:\n",
    "        print (error)"
   ]
  },
  {
   "cell_type": "code",
   "execution_count": 54,
   "metadata": {},
   "outputs": [],
   "source": [
    "mongoCollection = mongoConnection() # Connection to mongoDB\n",
    "\n",
    "prisonAdmissionsJson = fetchData(\"https://data.ny.gov/api/views/m2rg-xjan/rows.json?accessType=DOWNLOAD\") # Fetch data from the URL\n",
    "prisonAdmissionsDict = {} # Save the JSON data in Dictionary\n",
    "\n",
    "# Extracting data from the Prison admission JSON\n",
    "# Step one) Extract meta data from the JSON. Meta contains all the column names\n",
    "Index = 0 # Index \n",
    "for keys, values in enumerate(prisonAdmissionsJson[\"meta\"][\"view\"][\"columns\"]):\n",
    "    # print (values)\n",
    "    # Note:- While cleaning the data ignore all 'id' which are -1\n",
    "    prisonAdmissionsDict[Index] = {} # Adding an empty dictionary at the key (index)\n",
    "    prisonAdmissionsDict[Index][\"data\"] = values # Row data\n",
    "    prisonAdmissionsDict[Index][\"type\"] = \"meta\" # Type of data i.e. meta/data\n",
    "    mongoCollection.insert_one(prisonAdmissionsDict[Index]) # Insert a row in mongodb\n",
    "    Index = Index + 1 # Increment the Counter\n",
    "# print(prisonAdmissionsDict)"
   ]
  },
  {
   "cell_type": "code",
   "execution_count": 55,
   "metadata": {},
   "outputs": [],
   "source": [
    "# Step two) Extract data from the JSON. Data contains all the rows and saving into MongoDB\n",
    "for keys, values in enumerate(prisonAdmissionsJson[\"data\"]):\n",
    "    prisonAdmissionsDict[Index] = {} # Adding an empty dictionary at the key (index)\n",
    "    prisonAdmissionsDict[Index][\"data\"] = values # Row data\n",
    "    prisonAdmissionsDict[Index][\"type\"] = \"data\" # Type of data i.e. meta/data\n",
    "    # Insert a row in mongodb\n",
    "    mongoCollection.insert_one(prisonAdmissionsDict[Index]) \n",
    "    Index = Index + 1 # Increment the Counter\n",
    "    \n",
    "# print (prisonAdmissionsDict)"
   ]
  },
  {
   "cell_type": "code",
   "execution_count": 66,
   "metadata": {},
   "outputs": [],
   "source": [
    "# Step three) Extract data from MongoDB & Insert into PostgreSQL\n",
    "DBConnection = postgreSQLConnection() # PostgreSQL connection\n",
    "DBCursor = DBConnection.cursor()\n",
    "try:\n",
    "    prisonAdmissionCleaned = {}\n",
    "    mongoResults = mongoCollection.find({ \"type\": \"data\", \"data\": \"2018\" }) # Return all the data from the collection\n",
    "    for keys, values in enumerate(mongoResults):\n",
    "#         print (values[\"data\"])\n",
    "#         break\n",
    "        # Mapping values to keys\n",
    "        prisonAdmissionCleaned[keys] = {} # Adding an empty dictionary at the key (index)\n",
    "        prisonAdmissionCleaned[keys][\"AdmissionYear\"] = values[\"data\"][8] \n",
    "        prisonAdmissionCleaned[keys][\"AdmissionMonth\"] = values[\"data\"][9]  \n",
    "        prisonAdmissionCleaned[keys][\"MonthCode\"] = values[\"data\"][10]\n",
    "        prisonAdmissionCleaned[keys][\"AdmissionType\"] = values[\"data\"][11]\n",
    "        prisonAdmissionCleaned[keys][\"CountyOfCommitment\"] = values[\"data\"][12]  \n",
    "        prisonAdmissionCleaned[keys][\"LastKnownResidenceCounty\"] = values[\"data\"][13]\n",
    "        prisonAdmissionCleaned[keys][\"Gender\"] = values[\"data\"][14]\n",
    "        prisonAdmissionCleaned[keys][\"AgeOfAdmission\"] = values[\"data\"][15]\n",
    "        prisonAdmissionCleaned[keys][\"MostSeriousCrime\"] = values[\"data\"][16]\n",
    "        \n",
    "        # Insert data into PostgreSQL\n",
    "        Query = \"\"\"\n",
    "            Insert into \"PrisonAdmissions\" (\"AdmissionYear\", \"AdmissionMonth\", \"MonthCode\", \"AdmissionType\", \"CountyOfCommitment\", \"LastKnownResidenceCounty\", \"Gender\", \"AgeOfAdmission\", \"MostSeriousCrime\")\n",
    "                VALUES\n",
    "            (%s, %s, %s, %s, %s, %s, %s, %s, %s)\n",
    "        \"\"\"\n",
    "        Result = (prisonAdmissionCleaned[keys][\"AdmissionYear\"], prisonAdmissionCleaned[keys][\"AdmissionMonth\"], prisonAdmissionCleaned[keys][\"MonthCode\"], prisonAdmissionCleaned[keys][\"AdmissionType\"], prisonAdmissionCleaned[keys][\"CountyOfCommitment\"], prisonAdmissionCleaned[keys][\"LastKnownResidenceCounty\"], prisonAdmissionCleaned[keys][\"Gender\"], prisonAdmissionCleaned[keys][\"AgeOfAdmission\"], prisonAdmissionCleaned[keys][\"MostSeriousCrime\"])\n",
    "        DBCursor.execute(Query, Result)\n",
    "    DBConnection.commit() # Commit transactions\n",
    "    # print(prisonAdmissionCleaned)\n",
    "except Exception as error:\n",
    "    print(error)"
   ]
  },
  {
   "cell_type": "code",
   "execution_count": 40,
   "metadata": {},
   "outputs": [],
   "source": [
    "# Step four) Extract data from PostgreSQL\n"
   ]
  },
  {
   "cell_type": "code",
   "execution_count": null,
   "metadata": {},
   "outputs": [],
   "source": [
    "# Step five) EDA"
   ]
  }
 ],
 "metadata": {
  "kernelspec": {
   "display_name": "Python 3",
   "language": "python",
   "name": "python3"
  },
  "language_info": {
   "codemirror_mode": {
    "name": "ipython",
    "version": 3
   },
   "file_extension": ".py",
   "mimetype": "text/x-python",
   "name": "python",
   "nbconvert_exporter": "python",
   "pygments_lexer": "ipython3",
   "version": "3.7.3"
  }
 },
 "nbformat": 4,
 "nbformat_minor": 2
}
